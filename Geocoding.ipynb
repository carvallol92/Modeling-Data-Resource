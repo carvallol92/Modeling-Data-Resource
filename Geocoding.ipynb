{
 "cells": [
  {
   "cell_type": "markdown",
   "metadata": {},
   "source": [
    "## This Notebook content some APIs to geocoding Address"
   ]
  },
  {
   "cell_type": "markdown",
   "metadata": {},
   "source": [
    "### - - - - -  API GEOPY (OSM) - - - - -  url documentation https://geopy.readthedocs.io/en/stable/"
   ]
  },
  {
   "cell_type": "code",
   "execution_count": 55,
   "metadata": {},
   "outputs": [],
   "source": [
    "#!pip install geopy   # Before run, it's necessary install this library"
   ]
  },
  {
   "cell_type": "code",
   "execution_count": 1,
   "metadata": {},
   "outputs": [],
   "source": [
    "import pandas as pd\n",
    "import os"
   ]
  },
  {
   "cell_type": "code",
   "execution_count": 2,
   "metadata": {},
   "outputs": [],
   "source": [
    "from geopy.geocoders import Nominatim"
   ]
  },
  {
   "cell_type": "code",
   "execution_count": 3,
   "metadata": {},
   "outputs": [],
   "source": [
    "osm = Nominatim(user_agent=\"test\")"
   ]
  },
  {
   "cell_type": "code",
   "execution_count": 4,
   "metadata": {},
   "outputs": [
    {
     "name": "stdout",
     "output_type": "stream",
     "text": [
      "(-34.603932, -58.3836236)\n"
     ]
    }
   ],
   "source": [
    "location = osm.geocode(\"Avenida Corrientes 1200, Ciudad de Buenos Aires, Argentina\")\n",
    "print((location.latitude,location.longitude))"
   ]
  },
  {
   "cell_type": "code",
   "execution_count": 7,
   "metadata": {},
   "outputs": [],
   "source": [
    "AddressList = ['Avenida Corrientes 1200, Ciudad de Buenos Aires, Argentina','Zuviria 151, Ciudad de Buenos Aires, Buenos Aires, Argentina','Tucuman 1500, Ciudad de Buenos Aires, Buenos Aires, Argentina']"
   ]
  },
  {
   "cell_type": "code",
   "execution_count": 8,
   "metadata": {},
   "outputs": [
    {
     "name": "stdout",
     "output_type": "stream",
     "text": [
      "(-34.603932, -58.3836236)\n",
      "(-34.628586675510206, -58.4285932)\n",
      "(-34.6017791, -58.3879236)\n"
     ]
    }
   ],
   "source": [
    "for i in AddressList:\n",
    "    location = osm.geocode(i)\n",
    "    \n",
    "    print((location.latitude,location.longitude))   "
   ]
  },
  {
   "cell_type": "code",
   "execution_count": 62,
   "metadata": {},
   "outputs": [
    {
     "data": {
      "text/plain": [
       "geopy.location.Location"
      ]
     },
     "execution_count": 62,
     "metadata": {},
     "output_type": "execute_result"
    }
   ],
   "source": [
    "type(location)"
   ]
  },
  {
   "cell_type": "markdown",
   "metadata": {},
   "source": [
    "### - - - - -  API GOOGLE - - - - - url documentation https://developers.google.com/maps/  "
   ]
  },
  {
   "cell_type": "code",
   "execution_count": 9,
   "metadata": {},
   "outputs": [],
   "source": [
    "import requests "
   ]
  },
  {
   "cell_type": "code",
   "execution_count": 10,
   "metadata": {},
   "outputs": [],
   "source": [
    "# You can generate API KEY from https://console.cloud.google.com/ but this service it isn't free...\n",
    "\n",
    "API_KEY = \"###\"  \n",
    "address = \"Zuviria 151, Ciudad de Buenos Aires, Buenos Aires, Argentina\""
   ]
  },
  {
   "cell_type": "code",
   "execution_count": 11,
   "metadata": {},
   "outputs": [],
   "source": [
    "params = {'key': API_KEY,'address': address} "
   ]
  },
  {
   "cell_type": "code",
   "execution_count": 12,
   "metadata": {},
   "outputs": [],
   "source": [
    "base_url = 'https://maps.googleapis.com/maps/api/geocode/json?'"
   ]
  },
  {
   "cell_type": "code",
   "execution_count": 13,
   "metadata": {},
   "outputs": [
    {
     "data": {
      "text/plain": [
       "{'error_message': 'You must enable Billing on the Google Cloud Project at https://console.cloud.google.com/project/_/billing/enable Learn more at https://developers.google.com/maps/gmp-get-started',\n",
       " 'results': [],\n",
       " 'status': 'REQUEST_DENIED'}"
      ]
     },
     "execution_count": 13,
     "metadata": {},
     "output_type": "execute_result"
    }
   ],
   "source": [
    "response = requests.get(base_url, params=params)\n",
    "response.json()"
   ]
  },
  {
   "cell_type": "markdown",
   "metadata": {},
   "source": [
    "### - - - - -  API ESRI - - - - -  url documentation, guide and samples https://developers.arcgis.com/python/ "
   ]
  },
  {
   "cell_type": "code",
   "execution_count": 14,
   "metadata": {},
   "outputs": [],
   "source": [
    "#!pip install arcgis         # Before run, it's necessary install this library"
   ]
  },
  {
   "cell_type": "code",
   "execution_count": 15,
   "metadata": {},
   "outputs": [],
   "source": [
    "from arcgis.gis import GIS\n",
    "from arcgis.geocoding import geocode"
   ]
  },
  {
   "cell_type": "code",
   "execution_count": 16,
   "metadata": {},
   "outputs": [],
   "source": [
    "portal = \"https://www.arcgis.com\"\n",
    "user = \"###\"\n",
    "password = \"###\"\n",
    "\n",
    "gis = GIS(portal, user, password)"
   ]
  },
  {
   "cell_type": "code",
   "execution_count": 17,
   "metadata": {},
   "outputs": [],
   "source": [
    "address = \"Zuviria 151, Ciudad de Buenos Aires, Buenos Aires, Argentina\"\n",
    "pincode = geocode(address)[0]"
   ]
  },
  {
   "cell_type": "code",
   "execution_count": 18,
   "metadata": {},
   "outputs": [
    {
     "name": "stdout",
     "output_type": "stream",
     "text": [
      "-58.42872396038321 / -34.628642697179984\n"
     ]
    }
   ],
   "source": [
    "print(\"{} / {}\".format(pincode['attributes']['X'],pincode['attributes']['Y']))   "
   ]
  },
  {
   "cell_type": "markdown",
   "metadata": {},
   "source": [
    "### - - - - -   API DATOS ARG  - - - - -  url documentation https://datosgobar.github.io/georef-ar-api/open-api/#/"
   ]
  },
  {
   "cell_type": "code",
   "execution_count": 19,
   "metadata": {},
   "outputs": [],
   "source": [
    "import requests\n",
    "import os"
   ]
  },
  {
   "cell_type": "code",
   "execution_count": 20,
   "metadata": {},
   "outputs": [
    {
     "data": {
      "text/plain": [
       "'{\"cantidad\":1,\"direcciones\":[{\"altura\":{\"unidad\":null,\"valor\":151},\"calle\":{\"categoria\":\"CALLE\",\"id\":\"0204901011600\",\"nombre\":\"ZUVIRIA\"},\"calle_cruce_1\":{\"categoria\":null,\"id\":null,\"nombre\":null},\"calle_cruce_2\":{\"categoria\":null,\"id\":null,\"nombre\":null},\"departamento\":{\"id\":\"02049\",\"nombre\":\"Comuna 7\"},\"localidad_censal\":{\"id\":\"02000010\",\"nombre\":\"Ciudad Autónoma de Buenos Aires\"},\"nomenclatura\":\"ZUVIRIA 151, Comuna 7, Ciudad Autónoma de Buenos Aires\",\"piso\":null,\"provincia\":{\"id\":\"02\",\"nombre\":\"Ciudad Autónoma de Buenos Aires\"},\"ubicacion\":{\"lat\":-34.62862969042091,\"lon\":-58.42860711554436}}],\"inicio\":0,\"parametros\":{\"direccion\":{\"altura\":{\"unidad\":null,\"valor\":\"151\"},\"calles\":[\"Zuviria\"],\"piso\":null,\"tipo\":\"simple\"},\"localidad_censal\":\"Ciudad de Buenos Aires\",\"provincia\":\"Buenos Aires\"},\"total\":1}\\n'"
      ]
     },
     "execution_count": 20,
     "metadata": {},
     "output_type": "execute_result"
    }
   ],
   "source": [
    "url_base = 'https://apis.datos.gob.ar/georef/api/direcciones?direccion='\n",
    "address = 'Zuviria 151'\n",
    "localidad_censal = 'Ciudad de Buenos Aires'\n",
    "provincia = 'Buenos Aires'\n",
    "qry = \"{}{}&localidad_censal={}&provincia={}\".format(url_base,address,localidad_censal,provincia)\n",
    "get = requests.get(qry)\n",
    "resp_original = get.text\n",
    "resp_original"
   ]
  },
  {
   "cell_type": "markdown",
   "metadata": {},
   "source": [
    "### - - - - - API USIG - - - - - url documentation https://ws.usig.buenosaires.gob.ar/"
   ]
  },
  {
   "cell_type": "code",
   "execution_count": 46,
   "metadata": {},
   "outputs": [],
   "source": [
    "import requests\n",
    "import json\n",
    "import os"
   ]
  },
  {
   "cell_type": "code",
   "execution_count": 47,
   "metadata": {},
   "outputs": [],
   "source": [
    "# Use only to address in AMBA (Buenos Aires Metropolitan Area, Argentina)\n",
    "# Documentation  - - https://ws.usig.buenosaires.gob.ar/rest/\n",
    "\n",
    "url_geocoding = 'https://ws.usig.buenosaires.gob.ar/geocoder/2.2/geocoding?' \n",
    "url_normalize_geocoding = 'https://ws.usig.buenosaires.gob.ar/rest/normalizar_y_geocodificar_direcciones?' # first, it normalize address and then geocoding, it's more effective\n",
    "\n",
    "street = 'Avenida Corrientes'\n",
    "number = '1200'\n",
    "\n",
    "qry = \"{}calle={}&altura={}&desambiguar=1\".format(url_normalize_geocoding,street,number)\n",
    "\n",
    "get = requests.get(qry)\n",
    "result = get.text\n",
    "result = json.loads(result)"
   ]
  },
  {
   "cell_type": "code",
   "execution_count": 48,
   "metadata": {},
   "outputs": [
    {
     "data": {
      "text/plain": [
       "{'Normalizacion': {'TipoResultado': 'DireccionNormalizada',\n",
       "  'DireccionesCalleAltura': {'direcciones': [{'CodigoCalle': '3174',\n",
       "     'Calle': 'CORRIENTES AV.',\n",
       "     'Altura': '1200'}]},\n",
       "  'DireccionesCalleCalle': {'direcciones': []}},\n",
       " 'GeoCodificacion': {'x': '107312.467857', 'y': '102811.318348'}}"
      ]
     },
     "execution_count": 48,
     "metadata": {},
     "output_type": "execute_result"
    }
   ],
   "source": [
    "result"
   ]
  },
  {
   "cell_type": "code",
   "execution_count": 49,
   "metadata": {},
   "outputs": [
    {
     "name": "stdout",
     "output_type": "stream",
     "text": [
      "107312.467857 / 102811.318348\n"
     ]
    }
   ],
   "source": [
    "print(\"{} / {}\".format(result['GeoCodificacion']['x'],result['GeoCodificacion']['y']))"
   ]
  },
  {
   "cell_type": "code",
   "execution_count": 50,
   "metadata": {},
   "outputs": [
    {
     "data": {
      "text/plain": [
       "{'tipo_resultado': 'Ok', 'resultado': {'x': '-58.383582', 'y': '-34.603901'}}"
      ]
     },
     "execution_count": 50,
     "metadata": {},
     "output_type": "execute_result"
    }
   ],
   "source": [
    "# Convert Projection\n",
    "\n",
    "url_convert = 'https://ws.usig.buenosaires.gob.ar/rest/convertir_coordenadas?'\n",
    "x = '{}'.format(result['GeoCodificacion']['x'])\n",
    "y = '{}'.format(result['GeoCodificacion']['y'])\n",
    "\n",
    "qry = \"{}x={}&y={}&output=lonlat\".format(url_convert,x,y)\n",
    "\n",
    "get = requests.get(qry)\n",
    "result_wgs84 = get.text\n",
    "result_wgs84 = json.loads(result_wgs84)\n",
    "result_wgs84"
   ]
  },
  {
   "cell_type": "code",
   "execution_count": 51,
   "metadata": {},
   "outputs": [
    {
     "name": "stdout",
     "output_type": "stream",
     "text": [
      "-58.383582 / -34.603901\n"
     ]
    }
   ],
   "source": [
    "print(\"{} / {}\".format(result_wgs84['resultado']['x'],result_wgs84['resultado']['y']))"
   ]
  }
 ],
 "metadata": {
  "kernelspec": {
   "display_name": "Python 3",
   "language": "python",
   "name": "python3"
  },
  "language_info": {
   "codemirror_mode": {
    "name": "ipython",
    "version": 3
   },
   "file_extension": ".py",
   "mimetype": "text/x-python",
   "name": "python",
   "nbconvert_exporter": "python",
   "pygments_lexer": "ipython3",
   "version": "3.8.5"
  }
 },
 "nbformat": 4,
 "nbformat_minor": 4
}
